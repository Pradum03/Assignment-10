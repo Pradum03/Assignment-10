{
 "cells": [
  {
   "cell_type": "markdown",
   "id": "cfbe5d46-9688-4e4f-9705-b95e4c18443c",
   "metadata": {},
   "source": [
    "ASSIGNMENT: 10"
   ]
  },
  {
   "cell_type": "markdown",
   "id": "d76cad6f-6dd6-4fa7-a71c-ee87cbf1250f",
   "metadata": {},
   "source": [
    "1. Which function is used to open a file? What are the different modes of opening a file? Explain each mode \n",
    "of file opening."
   ]
  },
  {
   "cell_type": "markdown",
   "id": "1cd4822d-5a12-424e-80d7-6a39ead2c23e",
   "metadata": {},
   "source": [
    "In Python, the open() function is used to open a file. It returns a file object that can be used to read, write, and manipulate the contents of the file. The open() function takes two arguments: the file path and the mode.\n",
    "\n",
    "There are several modes for opening a file in Python:\n",
    "\n",
    "\"r\" - read mode: This mode opens the file for reading (default mode). If the file does not exist, an error occurs.\n",
    "\n",
    "\"w\" - write mode: This mode opens the file for writing. If the file already exists, its contents are truncated. If the file does not exist, a new file is created.\n",
    "\n",
    "\"a\" - append mode: This mode opens the file for writing. If the file already exists, new data is appended to the end of the file. If the file does not exist, a new file is created.\n",
    "\n",
    "\"x\" - exclusive creation mode: This mode creates a new file and opens it for writing. If the file already exists, an error occurs.\n",
    "\n",
    "\"b\" - binary mode: This mode is used to read or write binary data.\n",
    "\n",
    "\"t\" - text mode: This mode is used to read or write text data (default mode).\n",
    "\n",
    "\"+\" - update mode: This mode opens the file for both reading and writing."
   ]
  },
  {
   "cell_type": "markdown",
   "id": "ac104fba-d4e1-4a99-9914-9277988220e4",
   "metadata": {},
   "source": [
    "2. Why close() function is used? Why is it important to close a file?\n",
    "\n",
    "In Python, the close() function is used to close an opened file. It is important to close a file after you are done working with it because it releases the system resources that were being used by the file.\n",
    "\n",
    "When you open a file in Python, the operating system allocates resources to the file, such as file buffers and file descriptors. If you do not close the file properly, these resources may remain allocated even after your program has finished executing. Over time, this can lead to resource leaks, which can cause your program to slow down or even crash.\n",
    "\n",
    "Closing a file also ensures that any data that was buffered in memory is written to the file. If you do not close the file, the buffered data may not be written to the file, which means that any changes you made to the file will not be saved.\n",
    "\n",
    "In addition, some operating systems have limits on the number of files that can be opened at once by a process. If you open too many files without closing them, you may hit this limit, which can cause your program to fail."
   ]
  },
  {
   "cell_type": "code",
   "execution_count": 10,
   "id": "53f30321-d590-48e2-89e8-a69df4c6d84b",
   "metadata": {},
   "outputs": [],
   "source": [
    "file= open(\"example.txt\",\"w\")\n"
   ]
  },
  {
   "cell_type": "code",
   "execution_count": 11,
   "id": "ff329422-97b4-4c0c-aa95-a850c9ebfe33",
   "metadata": {},
   "outputs": [
    {
     "data": {
      "text/plain": [
       "33"
      ]
     },
     "execution_count": 11,
     "metadata": {},
     "output_type": "execute_result"
    }
   ],
   "source": [
    "file.write(\"I want to become a Data Scientist\")\n"
   ]
  },
  {
   "cell_type": "code",
   "execution_count": 12,
   "id": "4c8e843e-5e17-4e30-8cfe-430bb337bb7e",
   "metadata": {},
   "outputs": [],
   "source": [
    "file.close()\n"
   ]
  },
  {
   "cell_type": "code",
   "execution_count": 13,
   "id": "4f310717-75cd-40d5-9651-af1a1dacfe4c",
   "metadata": {},
   "outputs": [],
   "source": [
    "file=open(\"example.txt\",\"r\")"
   ]
  },
  {
   "cell_type": "code",
   "execution_count": 14,
   "id": "271dfde7-2fd9-483a-a40d-bb5b3e745dfe",
   "metadata": {},
   "outputs": [
    {
     "data": {
      "text/plain": [
       "'I want to become a Data Scientist'"
      ]
     },
     "execution_count": 14,
     "metadata": {},
     "output_type": "execute_result"
    }
   ],
   "source": [
    "file.read()"
   ]
  },
  {
   "cell_type": "markdown",
   "id": "b1f5b2fa-2bec-4838-8abc-99cb29edd8bc",
   "metadata": {},
   "source": [
    "4. Explain the following with python code: read(), readline() and readlines()\n",
    "\n",
    "In Python, there are three different methods that can be used to read data from a file: read(), readline(), and readlines(). Here's an explanation of each method, along with some Python code examples:\n",
    "\n",
    "read(): The read() method reads the entire contents of a file and returns it as a string. If you don't specify a parameter, read() will read the entire file"
   ]
  },
  {
   "cell_type": "code",
   "execution_count": 15,
   "id": "cc39764d-a477-41bf-ae1a-3322d47c4468",
   "metadata": {},
   "outputs": [
    {
     "name": "stdout",
     "output_type": "stream",
     "text": [
      "I want to become a Data Scientist\n"
     ]
    }
   ],
   "source": [
    "# Open a file in read mode\n",
    "file = open(\"example.txt\", \"r\")\n",
    "\n",
    "# Read the entire contents of the file\n",
    "contents = file.read()\n",
    "\n",
    "# Print the contents of the file\n",
    "print(contents)\n",
    "\n",
    "# Close the file\n",
    "file.close()\n"
   ]
  },
  {
   "cell_type": "markdown",
   "id": "ac521020-9384-40fc-922e-3d2841b726a5",
   "metadata": {},
   "source": [
    "readline(): The readline() method reads a single line from the file and returns it as a string. Each time you call readline(), it will return the next line in the file. Here's an example:\n",
    "\n"
   ]
  },
  {
   "cell_type": "code",
   "execution_count": 16,
   "id": "12de26aa-aef9-4e34-8eeb-3ae603f4153c",
   "metadata": {},
   "outputs": [
    {
     "data": {
      "text/plain": [
       "19"
      ]
     },
     "execution_count": 16,
     "metadata": {},
     "output_type": "execute_result"
    }
   ],
   "source": [
    "file = open(\"example.txt\", \"a\")\n",
    "file.write(\"\\nthis is a new line\")"
   ]
  },
  {
   "cell_type": "code",
   "execution_count": 17,
   "id": "83897299-aa46-49f4-b97f-f5ccb23af145",
   "metadata": {},
   "outputs": [
    {
     "name": "stdout",
     "output_type": "stream",
     "text": [
      "I want to become a Data Scientist\n",
      "\n",
      "this is a new line\n"
     ]
    }
   ],
   "source": [
    "# Open a file in read mode\n",
    "file = open(\"example.txt\", \"r\")\n",
    "\n",
    "# Read the first line of the file\n",
    "line1 = file.readline()\n",
    "\n",
    "# Read the second line of the file\n",
    "line2 = file.readline()\n",
    "\n",
    "# Print the first two lines of the file\n",
    "print(line1)\n",
    "print(line2)\n",
    "\n",
    "# Close the file\n",
    "file.close()\n"
   ]
  },
  {
   "cell_type": "markdown",
   "id": "eef8b9b1-04d7-42f1-bdf7-b7284e72e58e",
   "metadata": {},
   "source": [
    "readlines(): The readlines() method reads all the lines of a file and returns them as a list of strings. Each line of the file is represented as a separate string in the list. Here's an example:"
   ]
  },
  {
   "cell_type": "code",
   "execution_count": 18,
   "id": "6ba37f90-a8c9-49b1-b009-1b8937211f62",
   "metadata": {},
   "outputs": [
    {
     "data": {
      "text/plain": [
       "20"
      ]
     },
     "execution_count": 18,
     "metadata": {},
     "output_type": "execute_result"
    }
   ],
   "source": [
    "file = open(\"example.txt\", \"a\")\n",
    "file.write(\"\\nthis is a new line2\")"
   ]
  },
  {
   "cell_type": "code",
   "execution_count": 19,
   "id": "db8158f7-8c3d-46a6-a668-9bc22f7ac310",
   "metadata": {},
   "outputs": [
    {
     "name": "stdout",
     "output_type": "stream",
     "text": [
      "I want to become a Data Scientist\n",
      "\n",
      "this is a new line\n",
      "\n",
      "this is a new line2\n"
     ]
    }
   ],
   "source": [
    "# Open a file in read mode\n",
    "file = open(\"example.txt\", \"r\")\n",
    "\n",
    "# Read all the lines of the file\n",
    "lines = file.readlines()\n",
    "\n",
    "# Print each line of the file\n",
    "for line in lines:\n",
    "    print(line)\n",
    "\n",
    "# Close the file\n",
    "file.close()\n"
   ]
  },
  {
   "cell_type": "markdown",
   "id": "606f8a1c-9137-45aa-96bb-18da36b0e63b",
   "metadata": {},
   "source": [
    "5. Explain why with statement is used with open(). What is the advantage of using with statement and \n",
    "open() together?"
   ]
  },
  {
   "cell_type": "markdown",
   "id": "1dae5800-1462-44da-b8f3-bda775542f07",
   "metadata": {},
   "source": [
    "The with statement in Python is used to provide a context for a block of code. When you use the with statement, you can ensure that resources like files are properly managed and released after being used, regardless of whether an error occurs.\n",
    "\n",
    "The open() function in Python is used to open a file and return a file object. When used with the with statement, the open() function can be used to create a context for the file object, where the file is automatically closed once the with block is exited.\n",
    "\n",
    "Using the with statement with open() provides several advantages, including:\n",
    "\n",
    "Automatic handling of resources: When you use with statement with open(), the file is automatically closed once the with block is exited, even if an error occurs. This helps to ensure that resources are properly managed and released after being used, without having to explicitly call the close() method on the file object.\n",
    "\n",
    "Cleaner, more concise code: Using with statement with open() can make your code cleaner and more concise by removing the need for boilerplate code to handle opening and closing the file.\n",
    "\n",
    "Better error handling: When you use with statement with open(), any errors that occur within the with block are handled properly, ensuring that the file is properly closed, and any exceptions are raised and handled correctly. This makes it easier to write more robust code that can handle errors more gracefully."
   ]
  },
  {
   "cell_type": "code",
   "execution_count": 20,
   "id": "5209158a-f401-4220-be4e-78ff49c2a5c2",
   "metadata": {},
   "outputs": [
    {
     "name": "stdout",
     "output_type": "stream",
     "text": [
      "I want to become a Data Scientist\n",
      "this is a new line\n",
      "this is a new line2\n"
     ]
    }
   ],
   "source": [
    "# Using with statement to read a file\n",
    "with open('example.txt', 'r') as file:\n",
    "    data = file.read()\n",
    "    print(data)\n"
   ]
  },
  {
   "cell_type": "code",
   "execution_count": 21,
   "id": "bf716543-bf8a-4fe9-ab71-36cb462d5ca1",
   "metadata": {},
   "outputs": [
    {
     "name": "stdout",
     "output_type": "stream",
     "text": [
      "14\n"
     ]
    }
   ],
   "source": [
    "# Using with statement to write to a file\n",
    "with open('example.txt', 'w') as file:\n",
    "    data=  file.write('\\nHello, world!')\n",
    "    print(data)\n"
   ]
  },
  {
   "cell_type": "markdown",
   "id": "57061a12-c31a-4859-ac49-d144d2581bdc",
   "metadata": {},
   "source": [
    " 6.Explain the write() and writelines() functions. Give a suitable example."
   ]
  },
  {
   "cell_type": "markdown",
   "id": "f729425c-1fda-4334-91c7-f4513060b984",
   "metadata": {},
   "source": [
    "The write() function in Python is used to write a string to a file. It takes a string argument and writes it to the file that the file object is pointing to. If the file does not exist, it is created.\n",
    "\n",
    "The writelines() function in Python is similar to write(), but it takes a sequence of strings as an argument and writes them to the file. Each string is written on a separate line. If the file does not exist, it is created."
   ]
  },
  {
   "cell_type": "code",
   "execution_count": 23,
   "id": "cc8a9dd8-486a-44c1-bdd9-4275433bbfa0",
   "metadata": {},
   "outputs": [
    {
     "name": "stdout",
     "output_type": "stream",
     "text": [
      "Line 1\n",
      "Line 2\n",
      "Line 3\n",
      "\n"
     ]
    }
   ],
   "source": [
    "# Writing a string to a file using write()\n",
    "with open('example.txt', 'w') as file:\n",
    "    file.write('Hello, world!')\n",
    "# Writing a sequence of strings to a file using writelines()\n",
    "lines = ['Line 1\\n', 'Line 2\\n', 'Line 3\\n']\n",
    "with open('example.txt', 'w') as file:\n",
    "    file.writelines(lines)\n",
    "with open('example.txt', 'r') as file:\n",
    "    data = file.read()\n",
    "    print(data)\n"
   ]
  },
  {
   "cell_type": "code",
   "execution_count": null,
   "id": "12ccd964-4a24-4e74-96c4-872d5e70f6c2",
   "metadata": {},
   "outputs": [],
   "source": []
  }
 ],
 "metadata": {
  "kernelspec": {
   "display_name": "Python 3 (ipykernel)",
   "language": "python",
   "name": "python3"
  },
  "language_info": {
   "codemirror_mode": {
    "name": "ipython",
    "version": 3
   },
   "file_extension": ".py",
   "mimetype": "text/x-python",
   "name": "python",
   "nbconvert_exporter": "python",
   "pygments_lexer": "ipython3",
   "version": "3.10.8"
  }
 },
 "nbformat": 4,
 "nbformat_minor": 5
}
